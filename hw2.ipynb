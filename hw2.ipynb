{
 "cells": [
  {
   "cell_type": "code",
   "execution_count": 1,
   "id": "6354d337-a00d-4a19-b539-dc1df0bb386f",
   "metadata": {},
   "outputs": [],
   "source": [
    "import rpy2\n",
    "from rpy2 import robjects\n",
    "%reload_ext rpy2.ipython"
   ]
  },
  {
   "cell_type": "code",
   "execution_count": 2,
   "id": "4b86c548-5f17-4e3f-8638-6867fe96de78",
   "metadata": {},
   "outputs": [],
   "source": [
    "import pandas as pd\n",
    "import numpy as np"
   ]
  },
  {
   "cell_type": "markdown",
   "id": "35c36b72-774b-45a4-bbbf-535b8d5192d9",
   "metadata": {},
   "source": [
    "# 1. Работа с таблицей\n",
    "## 1. 1 Чтение таблицы"
   ]
  },
  {
   "cell_type": "code",
   "execution_count": 6,
   "id": "f106f79a-4b86-4e59-9fcb-477153801297",
   "metadata": {},
   "outputs": [],
   "source": [
    "%%R\n",
    "# install.packages(\"readr\")\n",
    "# install.packages('RMySQL', repos='http://cran.us.r-project.org')\n",
    "library(readr)"
   ]
  },
  {
   "cell_type": "code",
   "execution_count": 64,
   "id": "d70e2350-eb39-49db-b821-87f02a124ba6",
   "metadata": {},
   "outputs": [
    {
     "name": "stdout",
     "output_type": "stream",
     "text": [
      "New names:\n",
      "• `` -> `...1`\n",
      "Rows: 58233 Columns: 62\n",
      "── Column specification ────────────────────────────────────────────────────────\n",
      "Delimiter: \"\\t\"\n",
      "chr  (1): ...1\n",
      "dbl (61): LuC-136_S6_ME_L001_R1_001ReadsPerGene, LuC-128_S14_ME_L001_R1_001R...\n",
      "\n",
      "ℹ Use `spec()` to retrieve the full column specification for this data.\n",
      "ℹ Specify the column types or set `show_col_types = FALSE` to quiet this message.\n",
      "# A tibble: 58,233 × 62\n",
      "   ...1     LuC-136_S6_ME_L001_R…¹ LuC-128_S14_ME_L001_…² LuC-95_S5_ME_L001_R1…³\n",
      "   <chr>                     <dbl>                  <dbl>                  <dbl>\n",
      " 1 ENSG000…                      0                      0                      0\n",
      " 2 ENSG000…                      0                      0                      0\n",
      " 3 ENSG000…                      1                      0                      0\n",
      " 4 ENSG000…                      0                      0                      0\n",
      " 5 ENSG000…                      0                      0                      0\n",
      " 6 ENSG000…                      0                      0                      0\n",
      " 7 ENSG000…                      0                      0                      0\n",
      " 8 ENSG000…                      0                      0                      0\n",
      " 9 ENSG000…                      0                      0                      0\n",
      "10 ENSG000…                      0                      0                      1\n",
      "# ℹ 58,223 more rows\n",
      "# ℹ abbreviated names: ¹​`LuC-136_S6_ME_L001_R1_001ReadsPerGene`,\n",
      "#   ²​`LuC-128_S14_ME_L001_R1_001ReadsPerGene`,\n",
      "#   ³​`LuC-95_S5_ME_L001_R1_001ReadsPerGene`\n",
      "# ℹ 58 more variables: `LuC-135_S12_ME_L001_R1_001ReadsPerGene` <dbl>,\n",
      "#   LuC2_S6_L007_R1_001ReadsPerGene <dbl>,\n",
      "#   `LuC-84_S5_ME_L001_R1_001ReadsPerGene` <dbl>, …\n",
      "# ℹ Use `print(n = ...)` to see more rows\n"
     ]
    }
   ],
   "source": [
    "%%R\n",
    "df<-readr::read_tsv('/home/dkhardikova/bioinf_2025_local/class_2/GSE274975_raw_counts.tsv')\n",
    "print(df)"
   ]
  },
  {
   "cell_type": "markdown",
   "id": "0bdfdaa8-736c-4997-a071-40fee28669db",
   "metadata": {},
   "source": [
    "## 1. 2 Построение графика"
   ]
  },
  {
   "cell_type": "code",
   "execution_count": 30,
   "id": "6dde1ee5-b63b-495d-b898-95ec66b87f47",
   "metadata": {},
   "outputs": [],
   "source": [
    "%%R\n",
    "#install.packages(\"tidyverse\")\n",
    "library(tidyverse)\n"
   ]
  },
  {
   "cell_type": "code",
   "execution_count": 65,
   "id": "aa46bb59-7a63-44b6-8a5f-2c46952c72c3",
   "metadata": {},
   "outputs": [],
   "source": [
    "# dfp = pd.read_csv('/home/dkhardikova/bioinf_2025_local/class_2/GSE274975_raw_counts.tsv', delimiter='t')"
   ]
  },
  {
   "cell_type": "code",
   "execution_count": 88,
   "id": "29ed9cb7-72a0-4ec9-8b62-0b5b27c4005c",
   "metadata": {},
   "outputs": [
    {
     "data": {
      "image/png": "[encoded data removed]",
      "text/plain": [
       "<IPython.core.display.Image object>"
      ]
     },
     "metadata": {},
     "output_type": "display_data"
    }
   ],
   "source": [
    "%%R\n",
    "ggplot(\n",
    "  data = df,\n",
    "  mapping = aes(x = Luc_65_S30_R1_001ReadsPerGene, y = LuC_59_S1_R1_001ReadsPerGene, \n",
    "                color = LuC_27_S10_R1_001ReadsPerGene)\n",
    ") +\n",
    "  geom_point() +\n",
    "theme(text = element_text(size = 9),element_line(size =1))"
   ]
  },
  {
   "cell_type": "markdown",
   "id": "f17d3eb0-1b38-4bb2-9c33-529157352e01",
   "metadata": {},
   "source": [
    "# Картинка\n",
    "\n"
   ]
  }
 ],
 "metadata": {
  "kernelspec": {
   "display_name": "Python [conda env:jupyterhub] *",
   "language": "python",
   "name": "conda-env-jupyterhub-py"
  },
  "language_info": {
   "codemirror_mode": {
    "name": "ipython",
    "version": 3
   },
   "file_extension": ".py",
   "mimetype": "text/x-python",
   "name": "python",
   "nbconvert_exporter": "python",
   "pygments_lexer": "ipython3",
   "version": "3.8.12"
  }
 },
 "nbformat": 4,
 "nbformat_minor": 5
}
